{
 "cells": [
  {
   "cell_type": "markdown",
   "id": "cd949c96",
   "metadata": {},
   "source": [
    "Cite:\n",
    "- GaborNet:https://github.com/qshobak/Transformation-invariant-Gabor-Convolutional-Networks\n",
    "- Grad-Cam:https://github.com/MECLabTUDA/M3d-Cam\n",
    "- TestDataSet:https://github.com/XavierJiezou/pytorch-cnn-mnist/tree/master/test\n",
    "\n",
    "Environment:\n",
    "- GPU P40-24G 数量： 1 显存： 24G GB\n",
    "- torch==1.13.1 torchvision==0.14.1"
   ]
  },
  {
   "cell_type": "code",
   "execution_count": 1,
   "id": "65be4143",
   "metadata": {},
   "outputs": [],
   "source": [
    "import os\n",
    "import torch\n",
    "from torch.utils.data import DataLoader\n",
    "from torchvision import transforms\n",
    "\n",
    "from PIL import Image, ImageOps\n",
    "import matplotlib.pyplot as plt\n",
    "from medcam import medcam\n",
    "\n",
    "from net_factory import get_network_fn"
   ]
  },
  {
   "cell_type": "code",
   "execution_count": 2,
   "id": "a18d4918-995f-4c5d-bffa-2ee43923a04b",
   "metadata": {},
   "outputs": [],
   "source": [
    "# 数据准备\n",
    "path = './test/'\n",
    "imgs = []\n",
    "labels = []\n",
    "for name in sorted(os.listdir(path)):\n",
    "    img = Image.open(path+name).convert('L')\n",
    "    img = transforms.Resize(32)(img)\n",
    "    img = transforms.ToTensor()(img)\n",
    "    imgs.append(img)\n",
    "    labels.append(int(name[0]))\n",
    "imgs = torch.stack(imgs, 0)\n",
    "# Init your model and dataloader\n",
    "data_loader = DataLoader(imgs, batch_size=1, shuffle=False)"
   ]
  },
  {
   "cell_type": "code",
   "execution_count": 3,
   "id": "042d4dd0-6b29-4bea-b5a4-4ca38837af43",
   "metadata": {},
   "outputs": [
    {
     "name": "stdout",
     "output_type": "stream",
     "text": [
      "dict_keys(['epoch', 'state_dict', 'best_prec1', 'optimizer'])\n"
     ]
    },
    {
     "data": {
      "text/plain": [
       "<All keys matched successfully>"
      ]
     },
     "execution_count": 3,
     "metadata": {},
     "output_type": "execute_result"
    }
   ],
   "source": [
    "# 加载模型\n",
    "model = get_network_fn('gaborCNN20')\n",
    "checkpoint = torch.load('checkpoint.pth.tar',map_location='cpu')\n",
    "print(checkpoint.keys())\n",
    "model.load_state_dict(checkpoint['state_dict'])"
   ]
  },
  {
   "cell_type": "code",
   "execution_count": 4,
   "id": "768c5c0a-8050-4ab3-9e8d-ae2225bb4d4e",
   "metadata": {},
   "outputs": [],
   "source": [
    "# 测试模型\n",
    "'''\n",
    "model.eval()\n",
    "for batch_idx, data in enumerate(data_loader):\n",
    "    with torch.no_grad():\n",
    "        output = model(data)\n",
    "        print(output.argmax(1))\n",
    "'''\n",
    "# Inject model with M3d-CAM\n",
    "model = medcam.inject(model, output_dir=\"output\", save_maps=True)\n",
    "\n",
    "# Continue to do what you're doing...\n",
    "# In this case inference on some new data\n",
    "model.eval()\n",
    "outputs = []\n",
    "for batch in data_loader:\n",
    "    # Every time forward is called, attention maps will be generated and saved in the directory \"attention_maps\"\n",
    "    output = model(batch)\n",
    "    # more of your code...\n",
    "    outputs.append(output.argmax(1).item())"
   ]
  },
  {
   "cell_type": "code",
   "execution_count": 5,
   "id": "32817342",
   "metadata": {},
   "outputs": [],
   "source": [
    "import cv2\n",
    "import numpy as np\n",
    "# stolen from https://github.com/jacobgil/pytorch-grad-cam/blob/2183a9cbc1bd5fc1d8e134b4f3318c3b6db5671f/pytorch_grad_cam/utils/image.py\n",
    "def show_cam_on_image(img: np.ndarray,\n",
    "                      mask: np.ndarray,\n",
    "                      use_rgb: bool = False,\n",
    "                      colormap: int = cv2.COLORMAP_JET,\n",
    "                      image_weight: float = 0.5) -> np.ndarray:\n",
    "    \"\"\" This function overlays the cam mask on the image as an heatmap.\n",
    "    By default the heatmap is in BGR format.\n",
    "    :param img: The base image in RGB or BGR format.\n",
    "    :param mask: The cam mask.\n",
    "    :param use_rgb: Whether to use an RGB or BGR heatmap, this should be set to True if 'img' is in RGB format.\n",
    "    :param colormap: The OpenCV colormap to be used.\n",
    "    :param image_weight: The final result is image_weight * img + (1-image_weight) * mask.\n",
    "    :returns: The default image with the cam overlay.\n",
    "    \"\"\"\n",
    "    heatmap = cv2.applyColorMap(np.uint8(255 * mask), colormap)\n",
    "    if use_rgb:\n",
    "        heatmap = cv2.cvtColor(heatmap, cv2.COLOR_BGR2RGB)\n",
    "    heatmap = np.float32(heatmap) / 255\n",
    "\n",
    "    if np.max(img) > 1:\n",
    "        raise Exception(\n",
    "            \"The input image should np.float32 in the range [0, 1]\")\n",
    "\n",
    "    if image_weight < 0 or image_weight > 1:\n",
    "        raise Exception(\n",
    "            f\"image_weight should be in the range [0, 1].\\\n",
    "                Got: {image_weight}\")\n",
    "        \n",
    "    img = cv2.cvtColor(np.uint8(255*img),cv2.COLOR_GRAY2BGR)\n",
    "    img = np.float32(img) / 255\n",
    "    \n",
    "    cam = (1 - image_weight) * heatmap + image_weight * img\n",
    "    cam = cam / np.max(cam)\n",
    "    return cam"
   ]
  },
  {
   "cell_type": "code",
   "execution_count": 6,
   "id": "48be5f48-e095-4304-862e-24e64cb6c9c2",
   "metadata": {},
   "outputs": [
    {
     "name": "stdout",
     "output_type": "stream",
     "text": [
      "[9, 1, 2, 3, 4, 5, 6, 7, 2, 5]\n",
      "tensor([0, 1, 2, 3, 4, 5, 6, 7, 8, 9])\n"
     ]
    },
    {
     "data": {
      "image/png": "[encoded data removed]",
      "text/plain": [
       "<Figure size 720x288 with 10 Axes>"
      ]
     },
     "metadata": {
      "needs_background": "light"
     },
     "output_type": "display_data"
    }
   ],
   "source": [
    "#%% 打印结果\n",
    "pred = outputs\n",
    "true = torch.LongTensor(labels)\n",
    "print(pred)\n",
    "print(true)\n",
    "#%% 读取输出\n",
    "path = './output/model.8/'\n",
    "a_maps = []\n",
    "for name in sorted(os.listdir(path)):\n",
    "    a_map = Image.open(path+name).convert('L')\n",
    "    a_map = transforms.Resize(32)(a_map)\n",
    "    a_map = transforms.ToTensor()(a_map)\n",
    "    a_maps.append(a_map)\n",
    "\n",
    "#%% 结果显示\n",
    "plt.figure(figsize=(10, 4))\n",
    "for i in range(10):\n",
    "    plt.subplot(2, 5, i+1)\n",
    "    plt.title(f'pred {pred[i]} | true {true[i]}')\n",
    "    plt.axis('off')\n",
    "    img=np.array(imgs[i].squeeze(0))\n",
    "    img=img/np.max(img)\n",
    "    mask=np.array(a_maps[i].squeeze(0))\n",
    "    mask=mask/np.max(img)\n",
    "    output = show_cam_on_image(img,mask)\n",
    "    plt.imshow(output, cmap='gray')\n",
    "plt.savefig('test.png')\n",
    "plt.show()"
   ]
  }
 ],
 "metadata": {
  "kernelspec": {
   "display_name": "audiosr",
   "language": "python",
   "name": "audiosr"
  },
  "language_info": {
   "codemirror_mode": {
    "name": "ipython",
    "version": 3
   },
   "file_extension": ".py",
   "mimetype": "text/x-python",
   "name": "python",
   "nbconvert_exporter": "python",
   "pygments_lexer": "ipython3",
   "version": "3.8.13"
  }
 },
 "nbformat": 4,
 "nbformat_minor": 5
}
