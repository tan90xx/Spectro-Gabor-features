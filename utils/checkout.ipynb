{
 "cells": [
  {
   "cell_type": "code",
   "execution_count": 1,
   "id": "3b703525",
   "metadata": {},
   "outputs": [],
   "source": [
    "ShipsEar = {\n",
    "            'Fishboat':'A', 'Mussel boat':'A', 'Dredger':'A',\n",
    "            'Motorboat':'B', 'Sailboat':'B',\n",
    "            'Passengers':'C',\n",
    "            'Ocean liner':'D', 'RORO':'D',\n",
    "            'Naturalnoise':'E',\n",
    "           }"
   ]
  },
  {
   "cell_type": "code",
   "execution_count": 2,
   "id": "46cb4536",
   "metadata": {},
   "outputs": [],
   "source": [
    "import pandas as pd\n",
    "import numpy as np\n",
    "df = pd.read_excel('D:/Desktop/audiosr/project/data/datasets/ShipsEar/shipsEar.xlsx')"
   ]
  },
  {
   "cell_type": "code",
   "execution_count": 18,
   "id": "80abf578",
   "metadata": {},
   "outputs": [],
   "source": [
    "import config\n",
    "df = pd.read_excel('D:/Desktop/audiosr/project/data/datasets/ShipsEar/shipsEar.xlsx')\n",
    "paths = []\n",
    "names = []\n",
    "for idx, row in df.iterrows():\n",
    "    try:\n",
    "        target = config.lb_to_idx[ShipsEar.get(row['Type'])]\n",
    "        audio_name = row['Type']\n",
    "        audio_path = 'D:/Desktop/audiosr/project/data/datasets/ShipsEar' + row['Filename']\n",
    "        names.append(audio_name)\n",
    "        paths.append(audio_path)\n",
    "    except:\n",
    "        continue"
   ]
  },
  {
   "cell_type": "code",
   "execution_count": 20,
   "id": "58febad4",
   "metadata": {},
   "outputs": [
    {
     "name": "stdout",
     "output_type": "stream",
     "text": [
      "0\n",
      "2\n",
      "2\n",
      "2\n",
      "2\n",
      "2\n",
      "2\n",
      "2\n",
      "2\n",
      "2\n",
      "2\n",
      "1\n",
      "3\n",
      "3\n",
      "3\n",
      "2\n",
      "2\n",
      "2\n",
      "2\n",
      "2\n",
      "1\n",
      "1\n",
      "1\n",
      "1\n",
      "1\n",
      "2\n",
      "2\n",
      "1\n",
      "2\n",
      "2\n",
      "2\n",
      "1\n",
      "1\n",
      "1\n",
      "2\n",
      "1\n",
      "1\n",
      "2\n",
      "2\n",
      "2\n",
      "2\n",
      "3\n",
      "2\n",
      "2\n",
      "2\n",
      "2\n",
      "2\n",
      "1\n",
      "1\n",
      "0\n",
      "1\n",
      "0\n",
      "0\n",
      "1\n",
      "1\n",
      "3\n",
      "0\n",
      "0\n",
      "0\n",
      "0\n"
     ]
    }
   ],
   "source": [
    "for name in names:\n",
    "    print(config.lb_to_idx[ShipsEar.get(name)])"
   ]
  },
  {
   "cell_type": "code",
   "execution_count": 10,
   "id": "bbca9323",
   "metadata": {},
   "outputs": [],
   "source": [
    "from scipy import stats \n",
    "import numpy as np\n",
    "def d_prime(auc):\n",
    "    d_prime = stats.norm().ppf(auc) * np.sqrt(2.0)\n",
    "    return d_prime"
   ]
  },
  {
   "cell_type": "code",
   "execution_count": 11,
   "id": "11f8cd5e",
   "metadata": {},
   "outputs": [
    {
     "data": {
      "text/plain": [
       "1.3804564171483693"
      ]
     },
     "execution_count": 11,
     "metadata": {},
     "output_type": "execute_result"
    }
   ],
   "source": [
    "d_prime(0.8355)"
   ]
  },
  {
   "cell_type": "code",
   "execution_count": 12,
   "id": "6c79beeb",
   "metadata": {},
   "outputs": [
    {
     "data": {
      "text/plain": [
       "1.3679520371843845"
      ]
     },
     "execution_count": 12,
     "metadata": {},
     "output_type": "execute_result"
    }
   ],
   "source": [
    "d_prime(0.8333)"
   ]
  },
  {
   "cell_type": "code",
   "execution_count": 13,
   "id": "81460e4f",
   "metadata": {},
   "outputs": [
    {
     "data": {
      "text/plain": [
       "1.1483207875943247"
      ]
     },
     "execution_count": 13,
     "metadata": {},
     "output_type": "execute_result"
    }
   ],
   "source": [
    "d_prime(0.7916)"
   ]
  },
  {
   "cell_type": "code",
   "execution_count": 14,
   "id": "1b7b832f",
   "metadata": {},
   "outputs": [
    {
     "data": {
      "text/plain": [
       "1.1463502308543576"
      ]
     },
     "execution_count": 14,
     "metadata": {},
     "output_type": "execute_result"
    }
   ],
   "source": [
    "d_prime(0.7912)"
   ]
  },
  {
   "cell_type": "code",
   "execution_count": 15,
   "id": "f7e4ba0d",
   "metadata": {},
   "outputs": [
    {
     "data": {
      "text/plain": [
       "1.1199617680360645"
      ]
     },
     "execution_count": 15,
     "metadata": {},
     "output_type": "execute_result"
    }
   ],
   "source": [
    "d_prime(0.7858)"
   ]
  },
  {
   "cell_type": "code",
   "execution_count": 16,
   "id": "71029f67",
   "metadata": {},
   "outputs": [
    {
     "data": {
      "text/plain": [
       "1.0570351161421785"
      ]
     },
     "execution_count": 16,
     "metadata": {},
     "output_type": "execute_result"
    }
   ],
   "source": [
    "d_prime(0.7726)"
   ]
  },
  {
   "cell_type": "code",
   "execution_count": null,
   "id": "9e91a18d",
   "metadata": {},
   "outputs": [],
   "source": []
  }
 ],
 "metadata": {
  "kernelspec": {
   "display_name": "ship",
   "language": "python",
   "name": "ship"
  },
  "language_info": {
   "codemirror_mode": {
    "name": "ipython",
    "version": 3
   },
   "file_extension": ".py",
   "mimetype": "text/x-python",
   "name": "python",
   "nbconvert_exporter": "python",
   "pygments_lexer": "ipython3",
   "version": "3.6.13"
  }
 },
 "nbformat": 4,
 "nbformat_minor": 5
}
